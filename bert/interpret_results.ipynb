{
 "cells": [
  {
   "cell_type": "markdown",
   "metadata": {},
   "source": [
    " # Interpret results through aggregation\n",
    " \n",
    "Since I'm working with long documents, I'm not really concerned with BERT's raw predictions about individual text chunks. Instead I need to know how good the predictions are when aggregated at the volume level.\n",
    "\n",
    "This notebook answers that question, pairing BERT's predictions with a metadata file that got spun off when data was originally created. For a given TASK, this file will be named, for instance, ```bertmeta/dev_rows_{TASK_NAME}.tsv.``` This metadata file lists the index of each text chunk but also the ```docid``` (usually, volume-level ID) associated with a larger document.\n",
    "\n",
    "We can then group predictions by ```docid``` and evaluate accuracy at the volume level. I have tried doing this by averaging logits, as well as binary voting. \n",
    "\n",
    "My tentative conclusion is that in most cases binary voting is preferable; I'm not sure whether the logits are scaled in a way that produces a reliable mean."
   ]
  },
  {
   "cell_type": "code",
   "execution_count": 213,
   "metadata": {},
   "outputs": [],
   "source": [
    "# modules needed\n",
    "\n",
    "import pandas as pd\n",
    "from scipy.stats import pearsonr\n",
    "import numpy as np"
   ]
  },
  {
   "cell_type": "markdown",
   "metadata": {},
   "source": [
    "## Aggregate results; use binary voting\n",
    "\n",
    "The generat strategy here is to create a dataframe called ```pred``` that holds the predictions, and another one called ```meta``` that holds indexes paired with volume IDs (or review IDs when we're doing this for the sentiment dataset).\n",
    "\n",
    "Then we align the dataframes."
   ]
  },
  {
   "cell_type": "code",
   "execution_count": 228,
   "metadata": {},
   "outputs": [
    {
     "data": {
      "text/html": [
       "<div>\n",
       "<style scoped>\n",
       "    .dataframe tbody tr th:only-of-type {\n",
       "        vertical-align: middle;\n",
       "    }\n",
       "\n",
       "    .dataframe tbody tr th {\n",
       "        vertical-align: top;\n",
       "    }\n",
       "\n",
       "    .dataframe thead th {\n",
       "        text-align: right;\n",
       "    }\n",
       "</style>\n",
       "<table border=\"1\" class=\"dataframe\">\n",
       "  <thead>\n",
       "    <tr style=\"text-align: right;\">\n",
       "      <th></th>\n",
       "      <th>real</th>\n",
       "      <th>pred</th>\n",
       "    </tr>\n",
       "  </thead>\n",
       "  <tbody>\n",
       "    <tr>\n",
       "      <th>0</th>\n",
       "      <td>0</td>\n",
       "      <td>0</td>\n",
       "    </tr>\n",
       "    <tr>\n",
       "      <th>1</th>\n",
       "      <td>0</td>\n",
       "      <td>0</td>\n",
       "    </tr>\n",
       "    <tr>\n",
       "      <th>2</th>\n",
       "      <td>1</td>\n",
       "      <td>1</td>\n",
       "    </tr>\n",
       "    <tr>\n",
       "      <th>3</th>\n",
       "      <td>0</td>\n",
       "      <td>0</td>\n",
       "    </tr>\n",
       "    <tr>\n",
       "      <th>4</th>\n",
       "      <td>0</td>\n",
       "      <td>1</td>\n",
       "    </tr>\n",
       "  </tbody>\n",
       "</table>\n",
       "</div>"
      ],
      "text/plain": [
       "   real  pred\n",
       "0     0     0\n",
       "1     0     0\n",
       "2     1     1\n",
       "3     0     0\n",
       "4     0     1"
      ]
     },
     "execution_count": 228,
     "metadata": {},
     "output_type": "execute_result"
    }
   ],
   "source": [
    "pred = pd.read_csv('reports/sf512max/predictions.tsv', sep = '\\t', header = None, names = ['real', 'pred'])\n",
    "pred.head()"
   ]
  },
  {
   "cell_type": "code",
   "execution_count": 229,
   "metadata": {},
   "outputs": [
    {
     "data": {
      "text/html": [
       "<div>\n",
       "<style scoped>\n",
       "    .dataframe tbody tr th:only-of-type {\n",
       "        vertical-align: middle;\n",
       "    }\n",
       "\n",
       "    .dataframe tbody tr th {\n",
       "        vertical-align: top;\n",
       "    }\n",
       "\n",
       "    .dataframe thead th {\n",
       "        text-align: right;\n",
       "    }\n",
       "</style>\n",
       "<table border=\"1\" class=\"dataframe\">\n",
       "  <thead>\n",
       "    <tr style=\"text-align: right;\">\n",
       "      <th></th>\n",
       "      <th>idx</th>\n",
       "      <th>docid</th>\n",
       "      <th>class</th>\n",
       "    </tr>\n",
       "  </thead>\n",
       "  <tbody>\n",
       "    <tr>\n",
       "      <th>0</th>\n",
       "      <td>18558</td>\n",
       "      <td>njp.32101067641678</td>\n",
       "      <td>0</td>\n",
       "    </tr>\n",
       "    <tr>\n",
       "      <th>1</th>\n",
       "      <td>10699</td>\n",
       "      <td>20533</td>\n",
       "      <td>0</td>\n",
       "    </tr>\n",
       "    <tr>\n",
       "      <th>2</th>\n",
       "      <td>3646</td>\n",
       "      <td>10526</td>\n",
       "      <td>1</td>\n",
       "    </tr>\n",
       "    <tr>\n",
       "      <th>3</th>\n",
       "      <td>12410</td>\n",
       "      <td>20290</td>\n",
       "      <td>0</td>\n",
       "    </tr>\n",
       "    <tr>\n",
       "      <th>4</th>\n",
       "      <td>19704</td>\n",
       "      <td>nyp.33433074866413</td>\n",
       "      <td>0</td>\n",
       "    </tr>\n",
       "  </tbody>\n",
       "</table>\n",
       "</div>"
      ],
      "text/plain": [
       "     idx               docid  class\n",
       "0  18558  njp.32101067641678      0\n",
       "1  10699               20533      0\n",
       "2   3646               10526      1\n",
       "3  12410               20290      0\n",
       "4  19704  nyp.33433074866413      0"
      ]
     },
     "execution_count": 229,
     "metadata": {},
     "output_type": "execute_result"
    }
   ],
   "source": [
    "meta = pd.read_csv('bertmeta/dev_rows_SF512max.tsv', sep = '\\t')\n",
    "meta.head()"
   ]
  },
  {
   "cell_type": "code",
   "execution_count": 230,
   "metadata": {},
   "outputs": [
    {
     "data": {
      "text/plain": [
       "(20264, 2)"
      ]
     },
     "execution_count": 230,
     "metadata": {},
     "output_type": "execute_result"
    }
   ],
   "source": [
    "pred.shape"
   ]
  },
  {
   "cell_type": "code",
   "execution_count": 231,
   "metadata": {},
   "outputs": [
    {
     "data": {
      "text/plain": [
       "(20264, 3)"
      ]
     },
     "execution_count": 231,
     "metadata": {},
     "output_type": "execute_result"
    }
   ],
   "source": [
    "meta.shape"
   ]
  },
  {
   "cell_type": "code",
   "execution_count": 232,
   "metadata": {},
   "outputs": [
    {
     "data": {
      "text/html": [
       "<div>\n",
       "<style scoped>\n",
       "    .dataframe tbody tr th:only-of-type {\n",
       "        vertical-align: middle;\n",
       "    }\n",
       "\n",
       "    .dataframe tbody tr th {\n",
       "        vertical-align: top;\n",
       "    }\n",
       "\n",
       "    .dataframe thead th {\n",
       "        text-align: right;\n",
       "    }\n",
       "</style>\n",
       "<table border=\"1\" class=\"dataframe\">\n",
       "  <thead>\n",
       "    <tr style=\"text-align: right;\">\n",
       "      <th></th>\n",
       "      <th>real</th>\n",
       "      <th>pred</th>\n",
       "    </tr>\n",
       "    <tr>\n",
       "      <th>idx</th>\n",
       "      <th></th>\n",
       "      <th></th>\n",
       "    </tr>\n",
       "  </thead>\n",
       "  <tbody>\n",
       "    <tr>\n",
       "      <th>18558</th>\n",
       "      <td>0</td>\n",
       "      <td>0</td>\n",
       "    </tr>\n",
       "    <tr>\n",
       "      <th>10699</th>\n",
       "      <td>0</td>\n",
       "      <td>0</td>\n",
       "    </tr>\n",
       "    <tr>\n",
       "      <th>3646</th>\n",
       "      <td>1</td>\n",
       "      <td>1</td>\n",
       "    </tr>\n",
       "    <tr>\n",
       "      <th>12410</th>\n",
       "      <td>0</td>\n",
       "      <td>0</td>\n",
       "    </tr>\n",
       "    <tr>\n",
       "      <th>19704</th>\n",
       "      <td>0</td>\n",
       "      <td>1</td>\n",
       "    </tr>\n",
       "  </tbody>\n",
       "</table>\n",
       "</div>"
      ],
      "text/plain": [
       "       real  pred\n",
       "idx              \n",
       "18558     0     0\n",
       "10699     0     0\n",
       "3646      1     1\n",
       "12410     0     0\n",
       "19704     0     1"
      ]
     },
     "execution_count": 232,
     "metadata": {},
     "output_type": "execute_result"
    }
   ],
   "source": [
    "# Here we're aligning the dataframes by setting the index of \"pred\"\n",
    "# to match the idx column of \"meta.\"\n",
    "\n",
    "pred = pred.assign(idx = meta['idx'])\n",
    "pred = pred.set_index('idx')\n",
    "pred.head()"
   ]
  },
  {
   "cell_type": "markdown",
   "metadata": {},
   "source": [
    "#### Measure accuracy at the chunk level"
   ]
  },
  {
   "cell_type": "code",
   "execution_count": 233,
   "metadata": {},
   "outputs": [
    {
     "name": "stdout",
     "output_type": "stream",
     "text": [
      "0.7640643505724437\n"
     ]
    }
   ],
   "source": [
    "correct = []\n",
    "right = 0\n",
    "\n",
    "for idx, row in pred.iterrows():\n",
    "    if row['pred'] == row['real']:\n",
    "        correct.append(True)\n",
    "        right += 1\n",
    "    else:\n",
    "        correct.append(False)\n",
    "\n",
    "print(right / len(pred))"
   ]
  },
  {
   "cell_type": "markdown",
   "metadata": {},
   "source": [
    "#### And now at the document level"
   ]
  },
  {
   "cell_type": "code",
   "execution_count": 234,
   "metadata": {},
   "outputs": [
    {
     "name": "stdout",
     "output_type": "stream",
     "text": [
      "\n",
      "Overall accuracy: 0.8805970149253731\n"
     ]
    }
   ],
   "source": [
    "byvol = meta.groupby('docid')\n",
    "rightvols = 0\n",
    "allvols = 0\n",
    "bertprobs = dict()\n",
    "\n",
    "for vol, df in byvol:\n",
    "    total = 0\n",
    "    right = 0\n",
    "    positive = 0\n",
    "    df.set_index('idx', inplace = True)\n",
    "    for idx, row in df.iterrows():\n",
    "        total += 1\n",
    "        true_class = row['class']\n",
    "        predicted_class = pred.loc[idx, 'pred']\n",
    "        assert true_class == pred.loc[idx, 'real']\n",
    "        if true_class == predicted_class:\n",
    "            right += 1\n",
    "        if predicted_class:\n",
    "            positive += 1\n",
    "    bertprobs[vol] = positive/total\n",
    "    \n",
    "    if right/ total >= 0.5:\n",
    "        rightvols += 1\n",
    "    allvols += 1\n",
    "\n",
    "print()\n",
    "print('Overall accuracy:', rightvols / allvols)\n",
    "        "
   ]
  },
  {
   "cell_type": "markdown",
   "metadata": {},
   "source": [
    "# adding logits\n",
    "\n",
    "The same process as above, except we load predictions from a file called ```logits.tsv.```\n"
   ]
  },
  {
   "cell_type": "code",
   "execution_count": 235,
   "metadata": {},
   "outputs": [
    {
     "data": {
      "text/html": [
       "<div>\n",
       "<style scoped>\n",
       "    .dataframe tbody tr th:only-of-type {\n",
       "        vertical-align: middle;\n",
       "    }\n",
       "\n",
       "    .dataframe tbody tr th {\n",
       "        vertical-align: top;\n",
       "    }\n",
       "\n",
       "    .dataframe thead th {\n",
       "        text-align: right;\n",
       "    }\n",
       "</style>\n",
       "<table border=\"1\" class=\"dataframe\">\n",
       "  <thead>\n",
       "    <tr style=\"text-align: right;\">\n",
       "      <th></th>\n",
       "      <th>real</th>\n",
       "      <th>pred</th>\n",
       "    </tr>\n",
       "  </thead>\n",
       "  <tbody>\n",
       "    <tr>\n",
       "      <th>0</th>\n",
       "      <td>0</td>\n",
       "      <td>-2.264635</td>\n",
       "    </tr>\n",
       "    <tr>\n",
       "      <th>1</th>\n",
       "      <td>0</td>\n",
       "      <td>-4.431970</td>\n",
       "    </tr>\n",
       "    <tr>\n",
       "      <th>2</th>\n",
       "      <td>1</td>\n",
       "      <td>3.972526</td>\n",
       "    </tr>\n",
       "    <tr>\n",
       "      <th>3</th>\n",
       "      <td>0</td>\n",
       "      <td>-4.255719</td>\n",
       "    </tr>\n",
       "    <tr>\n",
       "      <th>4</th>\n",
       "      <td>0</td>\n",
       "      <td>2.567043</td>\n",
       "    </tr>\n",
       "  </tbody>\n",
       "</table>\n",
       "</div>"
      ],
      "text/plain": [
       "   real      pred\n",
       "0     0 -2.264635\n",
       "1     0 -4.431970\n",
       "2     1  3.972526\n",
       "3     0 -4.255719\n",
       "4     0  2.567043"
      ]
     },
     "execution_count": 235,
     "metadata": {},
     "output_type": "execute_result"
    }
   ],
   "source": [
    "pred = pd.read_csv('reports/sf512max/logits.tsv', sep = '\\t', header = None, names = ['real', 'pred'])\n",
    "pred.head()"
   ]
  },
  {
   "cell_type": "code",
   "execution_count": 236,
   "metadata": {},
   "outputs": [
    {
     "name": "stdout",
     "output_type": "stream",
     "text": [
      "0.7652980655349388\n"
     ]
    }
   ],
   "source": [
    "right = 0\n",
    "\n",
    "for idx, row in pred.iterrows():\n",
    "    if row['pred'] >= 0:\n",
    "        predclass = 1\n",
    "    else:\n",
    "        predclass = 0\n",
    "        \n",
    "    if predclass == row['real']:\n",
    "        correct.append(True)\n",
    "        right += 1\n",
    "    else:\n",
    "        correct.append(False)\n",
    "\n",
    "print(right / len(pred))"
   ]
  },
  {
   "cell_type": "code",
   "execution_count": 238,
   "metadata": {},
   "outputs": [
    {
     "data": {
      "text/html": [
       "<div>\n",
       "<style scoped>\n",
       "    .dataframe tbody tr th:only-of-type {\n",
       "        vertical-align: middle;\n",
       "    }\n",
       "\n",
       "    .dataframe tbody tr th {\n",
       "        vertical-align: top;\n",
       "    }\n",
       "\n",
       "    .dataframe thead th {\n",
       "        text-align: right;\n",
       "    }\n",
       "</style>\n",
       "<table border=\"1\" class=\"dataframe\">\n",
       "  <thead>\n",
       "    <tr style=\"text-align: right;\">\n",
       "      <th></th>\n",
       "      <th>real</th>\n",
       "      <th>pred</th>\n",
       "    </tr>\n",
       "    <tr>\n",
       "      <th>idx</th>\n",
       "      <th></th>\n",
       "      <th></th>\n",
       "    </tr>\n",
       "  </thead>\n",
       "  <tbody>\n",
       "    <tr>\n",
       "      <th>18558</th>\n",
       "      <td>0</td>\n",
       "      <td>-2.264635</td>\n",
       "    </tr>\n",
       "    <tr>\n",
       "      <th>10699</th>\n",
       "      <td>0</td>\n",
       "      <td>-4.431970</td>\n",
       "    </tr>\n",
       "    <tr>\n",
       "      <th>3646</th>\n",
       "      <td>1</td>\n",
       "      <td>3.972526</td>\n",
       "    </tr>\n",
       "    <tr>\n",
       "      <th>12410</th>\n",
       "      <td>0</td>\n",
       "      <td>-4.255719</td>\n",
       "    </tr>\n",
       "    <tr>\n",
       "      <th>19704</th>\n",
       "      <td>0</td>\n",
       "      <td>2.567043</td>\n",
       "    </tr>\n",
       "  </tbody>\n",
       "</table>\n",
       "</div>"
      ],
      "text/plain": [
       "       real      pred\n",
       "idx                  \n",
       "18558     0 -2.264635\n",
       "10699     0 -4.431970\n",
       "3646      1  3.972526\n",
       "12410     0 -4.255719\n",
       "19704     0  2.567043"
      ]
     },
     "execution_count": 238,
     "metadata": {},
     "output_type": "execute_result"
    }
   ],
   "source": [
    "# Here we're aligning the dataframes by setting the index of \"pred\"\n",
    "# to match the idx column of \"meta.\"\n",
    "\n",
    "pred = pred.assign(idx = meta['idx'])\n",
    "pred = pred.set_index('idx')\n",
    "pred.head()"
   ]
  },
  {
   "cell_type": "code",
   "execution_count": 239,
   "metadata": {},
   "outputs": [
    {
     "name": "stdout",
     "output_type": "stream",
     "text": [
      "\n",
      "Overall accuracy: 0.8731343283582089\n"
     ]
    }
   ],
   "source": [
    "byvol = meta.groupby('docid')\n",
    "rightvols = 0\n",
    "allvols = 0\n",
    "bertprobs = dict()\n",
    "\n",
    "for vol, df in byvol:\n",
    "    total = 0\n",
    "    right = 0\n",
    "    positive = 0\n",
    "    df.set_index('idx', inplace = True)\n",
    "    predictions = []\n",
    "    for idx, row in df.iterrows():\n",
    "        predict = pred.loc[idx, 'pred']\n",
    "        predictions.append(predict)\n",
    "        true_class = row['class']\n",
    "    \n",
    "    volmean = sum(predictions) / len(predictions)\n",
    "    if volmean >= 0:\n",
    "        predicted_class = 1\n",
    "    else:\n",
    "        predicted_class = 0\n",
    "    \n",
    "    if true_class == predicted_class:\n",
    "        rightvols += 1\n",
    "    allvols += 1\n",
    "\n",
    "print()\n",
    "print('Overall accuracy:', rightvols / allvols)\n",
    "        "
   ]
  },
  {
   "cell_type": "markdown",
   "metadata": {},
   "source": [
    "### Random curiosity\n",
    "\n",
    "I was interested to know how closely BERT predictions correlate with bag-of-words modeling, and whether it's less closely than BoW models with each other. The answer is, yes, the correlation is less strong, and there's potential here for an ensemble model."
   ]
  },
  {
   "cell_type": "code",
   "execution_count": 38,
   "metadata": {},
   "outputs": [
    {
     "name": "stdout",
     "output_type": "stream",
     "text": [
      "(0.8549116043175494, 2.6234639516705286e-42)\n",
      "144 144\n"
     ]
    }
   ],
   "source": [
    "def corrdist(filename, bertprobs):\n",
    "    '''\n",
    "    Checks for correlation.\n",
    "    '''\n",
    "    # If I were coding elegantly, I would not repeat\n",
    "    # the same code twice, but this is just a sanity check, so\n",
    "    # the structure here is that we do exactly the same thing\n",
    "    # for models 0-4 and for models 5-9.\n",
    "    \n",
    "    root = '../temp/' + filename\n",
    "    logisticprob = dict()\n",
    "    \n",
    "    for i in range(0, 10):\n",
    "        # note the range endpoints\n",
    "        \n",
    "        tt_df = pd.read_csv(root + str(i) + '.csv', index_col = 'docid')\n",
    "        \n",
    "        for key, value in bertprobs.items():\n",
    "            \n",
    "            if key in tt_df.index:\n",
    "                l_prob = tt_df.loc[key, 'probability']\n",
    "                if key not in logisticprob:\n",
    "                    logisticprob[key] = []\n",
    "                logisticprob[key].append(l_prob)\n",
    "   \n",
    "    a = []\n",
    "    b = []\n",
    "    \n",
    "    for key, value in logisticprob.items():\n",
    "        aval = sum(value) / len(value)\n",
    "        bval = bertprobs[key]\n",
    "        \n",
    "        a.append(aval)\n",
    "        b.append(bval)\n",
    "        \n",
    "    print(pearsonr(a, b))\n",
    "    print(len(a), len(b))\n",
    "    \n",
    "corrdist('BoWSF', bertprobs)\n",
    "    "
   ]
  },
  {
   "cell_type": "code",
   "execution_count": 44,
   "metadata": {},
   "outputs": [
    {
     "name": "stdout",
     "output_type": "stream",
     "text": [
      "(0.9069152286574826, 5.809848410179044e-65)\n",
      "(0.945194636095759, 3.836320801113107e-81)\n",
      "(0.9372459714709538, 6.696719042807056e-72)\n",
      "(0.953374935577137, 2.260784094211083e-78)\n",
      "(0.9814680321385194, 1.3576852910717093e-96)\n",
      "(0.9441282452790755, 1.1171372712922109e-74)\n",
      "(0.9282620441215177, 2.494721887980342e-69)\n",
      "(0.9328570251176902, 2.7559170551474205e-73)\n",
      "(0.9689324206171126, 8.953113821316352e-98)\n"
     ]
    }
   ],
   "source": [
    "thisprobs = dict()\n",
    "lastprobs = dict()\n",
    "root = '../temp/BoWSF'\n",
    "\n",
    "for i in range(0, 10):\n",
    "    \n",
    "    df = pd.read_csv(root + str(i) + '.csv', index_col = 'docid')\n",
    "    a = []\n",
    "    b = []\n",
    "    \n",
    "    for idx, row in df.iterrows():\n",
    "        thisprobs[idx] = row.probability\n",
    "        if idx in lastprobs:\n",
    "            a.append(lastprobs[idx])\n",
    "            b.append(thisprobs[idx])\n",
    "    \n",
    "    if len(a) > 0:\n",
    "        print(pearsonr(a, b))\n",
    "    lastprobs = thisprobs\n",
    "    thisprobs = dict()\n"
   ]
  },
  {
   "cell_type": "code",
   "execution_count": 103,
   "metadata": {},
   "outputs": [
    {
     "data": {
      "text/html": [
       "<div>\n",
       "<style scoped>\n",
       "    .dataframe tbody tr th:only-of-type {\n",
       "        vertical-align: middle;\n",
       "    }\n",
       "\n",
       "    .dataframe tbody tr th {\n",
       "        vertical-align: top;\n",
       "    }\n",
       "\n",
       "    .dataframe thead th {\n",
       "        text-align: right;\n",
       "    }\n",
       "</style>\n",
       "<table border=\"1\" class=\"dataframe\">\n",
       "  <thead>\n",
       "    <tr style=\"text-align: right;\">\n",
       "      <th></th>\n",
       "      <th>idx</th>\n",
       "      <th>docid</th>\n",
       "      <th>class</th>\n",
       "    </tr>\n",
       "  </thead>\n",
       "  <tbody>\n",
       "    <tr>\n",
       "      <th>0</th>\n",
       "      <td>15824</td>\n",
       "      <td>11043</td>\n",
       "      <td>1</td>\n",
       "    </tr>\n",
       "    <tr>\n",
       "      <th>1</th>\n",
       "      <td>23028</td>\n",
       "      <td>njp.32101021206436</td>\n",
       "      <td>1</td>\n",
       "    </tr>\n",
       "    <tr>\n",
       "      <th>2</th>\n",
       "      <td>3948</td>\n",
       "      <td>uc2.ark+=13960=t10p0xs0f</td>\n",
       "      <td>1</td>\n",
       "    </tr>\n",
       "    <tr>\n",
       "      <th>3</th>\n",
       "      <td>45122</td>\n",
       "      <td>11316</td>\n",
       "      <td>0</td>\n",
       "    </tr>\n",
       "    <tr>\n",
       "      <th>4</th>\n",
       "      <td>6689</td>\n",
       "      <td>21304</td>\n",
       "      <td>1</td>\n",
       "    </tr>\n",
       "  </tbody>\n",
       "</table>\n",
       "</div>"
      ],
      "text/plain": [
       "     idx                     docid  class\n",
       "0  15824                     11043      1\n",
       "1  23028        njp.32101021206436      1\n",
       "2   3948  uc2.ark+=13960=t10p0xs0f      1\n",
       "3  45122                     11316      0\n",
       "4   6689                     21304      1"
      ]
     },
     "execution_count": 103,
     "metadata": {},
     "output_type": "execute_result"
    }
   ],
   "source": [
    "met = pd.read_csv('bertmeta/dev_rows_SF0_500.tsv', sep = '\\t')\n",
    "met.head()"
   ]
  },
  {
   "cell_type": "code",
   "execution_count": 112,
   "metadata": {},
   "outputs": [
    {
     "name": "stdout",
     "output_type": "stream",
     "text": [
      "\n",
      "Overall accuracy: (0.18086238182722572, 0.0917345570153834)\n"
     ]
    }
   ],
   "source": [
    "# regression\n",
    "\n",
    "byvol = meta.groupby('docid')\n",
    "\n",
    "volpred = []\n",
    "volreal = []\n",
    "\n",
    "for vol, df in byvol:\n",
    "    total = 0\n",
    "    right = 0\n",
    "    positive = 0\n",
    "    df.set_index('idx', inplace = True)\n",
    "    predictions = []\n",
    "    for idx, row in df.iterrows():\n",
    "        predict = pred.loc[idx, 'pred']\n",
    "        predictions.append(predict)\n",
    "        true_class = float(row['class'])\n",
    "    \n",
    "    volmean = sum(predictions) / len(predictions)\n",
    "    volpred.append(volmean)\n",
    "    volreal.append(true_class)\n",
    "    \n",
    "\n",
    "print()\n",
    "print('Overall accuracy:', pearsonr(volpred, volreal))"
   ]
  },
  {
   "cell_type": "code",
   "execution_count": null,
   "metadata": {},
   "outputs": [],
   "source": []
  }
 ],
 "metadata": {
  "anaconda-cloud": {},
  "kernelspec": {
   "display_name": "Python 3",
   "language": "python",
   "name": "python3"
  },
  "language_info": {
   "codemirror_mode": {
    "name": "ipython",
    "version": 3
   },
   "file_extension": ".py",
   "mimetype": "text/x-python",
   "name": "python",
   "nbconvert_exporter": "python",
   "pygments_lexer": "ipython3",
   "version": "3.5.2"
  }
 },
 "nbformat": 4,
 "nbformat_minor": 1
}
